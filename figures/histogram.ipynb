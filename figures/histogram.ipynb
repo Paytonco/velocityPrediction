{
 "cells": [
  {
   "cell_type": "code",
   "execution_count": 1,
   "id": "4b3b6690-6ae2-4159-935b-9b05b53d624c",
   "metadata": {},
   "outputs": [],
   "source": [
    "%load_ext autoreload\n",
    "%autoreload 2"
   ]
  },
  {
   "cell_type": "code",
   "execution_count": 2,
   "id": "b30e7d17-2ea1-4bd1-81ea-1034a18a081e",
   "metadata": {},
   "outputs": [],
   "source": [
    "import io\n",
    "import copy\n",
    "\n",
    "import omegaconf\n",
    "from omegaconf import OmegaConf\n",
    "import matplotlib\n",
    "import matplotlib.pyplot as plt\n",
    "import seaborn as sns\n",
    "# sns.set_context('paper')\n",
    "sns.set(font_scale=1.2)\n",
    "sns.set_style('whitegrid')\n",
    "import seaborn.objects as so\n",
    "import numpy as np\n",
    "import pandas as pd\n",
    "import torch\n",
    "import wandb\n",
    "import PIL\n",
    "\n",
    "import plots\n",
    "import utils"
   ]
  },
  {
   "cell_type": "code",
   "execution_count": 3,
   "id": "7661136a-663f-45ad-a79d-1861103941b9",
   "metadata": {},
   "outputs": [
    {
     "data": {
      "text/plain": [
       "{'wandb': {'entity': 'taost', 'project': 'rna_vel_pred', 'run': None, 'dir': '${oc.select:..out_dir,.}', 'tags': []}, 'out_dir': PosixPath('/home/reepoi/out/rna_vel_pred/rna_vel_pred'), 'run_ids': ['2uixz7e2'], 'split': 'test'}"
      ]
     },
     "execution_count": 3,
     "metadata": {},
     "output_type": "execute_result"
    }
   ],
   "source": [
    "cfg = OmegaConf.load(utils.ROOT_DIR/'configs'/'wandb.yaml')\n",
    "cfg = OmegaConf.create(dict(\n",
    "    wandb=cfg,\n",
    "    out_dir=(utils.ROOT_DIR/'../../out/rna_vel_pred/rna_vel_pred').resolve(),\n",
    "    run_ids=['2uixz7e2'],\n",
    "    split='test',\n",
    "))\n",
    "cfg"
   ]
  },
  {
   "cell_type": "code",
   "execution_count": 4,
   "id": "131682d1-2e28-4734-8e7f-0bee89b355ba",
   "metadata": {},
   "outputs": [
    {
     "data": {
      "text/html": [
       "<div>\n",
       "<style scoped>\n",
       "    .dataframe tbody tr th:only-of-type {\n",
       "        vertical-align: middle;\n",
       "    }\n",
       "\n",
       "    .dataframe tbody tr th {\n",
       "        vertical-align: top;\n",
       "    }\n",
       "\n",
       "    .dataframe thead th {\n",
       "        text-align: right;\n",
       "    }\n",
       "</style>\n",
       "<table border=\"1\" class=\"dataframe\">\n",
       "  <thead>\n",
       "    <tr style=\"text-align: right;\">\n",
       "      <th></th>\n",
       "      <th>Cosine Loss</th>\n",
       "    </tr>\n",
       "  </thead>\n",
       "  <tbody>\n",
       "    <tr>\n",
       "      <th>0</th>\n",
       "      <td>0.362001</td>\n",
       "    </tr>\n",
       "    <tr>\n",
       "      <th>1</th>\n",
       "      <td>1.292606</td>\n",
       "    </tr>\n",
       "    <tr>\n",
       "      <th>2</th>\n",
       "      <td>0.824420</td>\n",
       "    </tr>\n",
       "    <tr>\n",
       "      <th>3</th>\n",
       "      <td>0.126919</td>\n",
       "    </tr>\n",
       "    <tr>\n",
       "      <th>4</th>\n",
       "      <td>0.176616</td>\n",
       "    </tr>\n",
       "    <tr>\n",
       "      <th>...</th>\n",
       "      <td>...</td>\n",
       "    </tr>\n",
       "    <tr>\n",
       "      <th>2085</th>\n",
       "      <td>1.139459</td>\n",
       "    </tr>\n",
       "    <tr>\n",
       "      <th>2086</th>\n",
       "      <td>0.530643</td>\n",
       "    </tr>\n",
       "    <tr>\n",
       "      <th>2087</th>\n",
       "      <td>1.018480</td>\n",
       "    </tr>\n",
       "    <tr>\n",
       "      <th>2088</th>\n",
       "      <td>0.263233</td>\n",
       "    </tr>\n",
       "    <tr>\n",
       "      <th>2089</th>\n",
       "      <td>0.904220</td>\n",
       "    </tr>\n",
       "  </tbody>\n",
       "</table>\n",
       "<p>2090 rows × 1 columns</p>\n",
       "</div>"
      ],
      "text/plain": [
       "      Cosine Loss\n",
       "0        0.362001\n",
       "1        1.292606\n",
       "2        0.824420\n",
       "3        0.126919\n",
       "4        0.176616\n",
       "...           ...\n",
       "2085     1.139459\n",
       "2086     0.530643\n",
       "2087     1.018480\n",
       "2088     0.263233\n",
       "2089     0.904220\n",
       "\n",
       "[2090 rows x 1 columns]"
      ]
     },
     "execution_count": 4,
     "metadata": {},
     "output_type": "execute_result"
    }
   ],
   "source": [
    "df = plots.histogram(cfg)\n",
    "df"
   ]
  },
  {
   "cell_type": "code",
   "execution_count": 5,
   "id": "c5682ffa-3d7d-4030-bb53-925c5d193b57",
   "metadata": {},
   "outputs": [
    {
     "data": {
      "image/png": "[encoded data removed]",
      "text/plain": [
       "<Figure size 525x350 with 1 Axes>"
      ]
     },
     "metadata": {},
     "output_type": "display_data"
    }
   ],
   "source": [
    "plot = (\n",
    "    sns.displot(\n",
    "        data=df,\n",
    "        stat='proportion',\n",
    "        x='Cosine Loss',\n",
    "        height=3.5,\n",
    "        aspect=1.5,\n",
    "        bins=30,\n",
    "        )\n",
    "    .set_ylabels('Proportion of Test Set')\n",
    "    .set(xlim=(0, 2), ylim=(0, .15))\n",
    ")"
   ]
  },
  {
   "cell_type": "code",
   "execution_count": 6,
   "id": "84bd0c1e-029f-4a6b-9a80-4b813856ef83",
   "metadata": {},
   "outputs": [],
   "source": [
    "plot.savefig(f'{cfg.run_ids[0]}.test.pdf')"
   ]
  }
 ],
 "metadata": {
  "kernelspec": {
   "display_name": "Python 3 (ipykernel)",
   "language": "python",
   "name": "python3"
  },
  "language_info": {
   "codemirror_mode": {
    "name": "ipython",
    "version": 3
   },
   "file_extension": ".py",
   "mimetype": "text/x-python",
   "name": "python",
   "nbconvert_exporter": "python",
   "pygments_lexer": "ipython3",
   "version": "3.10.12"
  }
 },
 "nbformat": 4,
 "nbformat_minor": 5
}
