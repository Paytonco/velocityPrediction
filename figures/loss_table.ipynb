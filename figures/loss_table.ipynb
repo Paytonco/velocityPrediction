{
 "cells": [
  {
   "cell_type": "code",
   "execution_count": 1,
   "id": "4b3b6690-6ae2-4159-935b-9b05b53d624c",
   "metadata": {},
   "outputs": [],
   "source": [
    "%load_ext autoreload\n",
    "%autoreload 2"
   ]
  },
  {
   "cell_type": "code",
   "execution_count": 2,
   "id": "b30e7d17-2ea1-4bd1-81ea-1034a18a081e",
   "metadata": {},
   "outputs": [],
   "source": [
    "import io\n",
    "import copy\n",
    "\n",
    "import omegaconf\n",
    "from omegaconf import OmegaConf\n",
    "import matplotlib\n",
    "import matplotlib.pyplot as plt\n",
    "import seaborn as sns\n",
    "# sns.set_context('paper')\n",
    "sns.set(font_scale=1.2)\n",
    "sns.set_style('whitegrid')\n",
    "import seaborn.objects as so\n",
    "import numpy as np\n",
    "import pandas as pd\n",
    "import torch\n",
    "import wandb\n",
    "import PIL\n",
    "\n",
    "import plots\n",
    "import utils"
   ]
  },
  {
   "cell_type": "code",
   "execution_count": 3,
   "id": "7661136a-663f-45ad-a79d-1861103941b9",
   "metadata": {},
   "outputs": [
    {
     "data": {
      "text/plain": [
       "{'wandb': {'entity': 'taost', 'project': 'rna_vel_pred', 'run': None, 'dir': '${oc.select:..out_dir,.}', 'tags': []}, 'out_dir': PosixPath('/home/reepoi/out/rna_vel_pred/rna_vel_pred'), 'run_ids': ['ar8z2bao', 'li21mqmc', '66171mxq', '2uixz7e2'], 'split': 'test'}"
      ]
     },
     "execution_count": 3,
     "metadata": {},
     "output_type": "execute_result"
    }
   ],
   "source": [
    "cfg = OmegaConf.load(utils.ROOT_DIR/'configs'/'wandb.yaml')\n",
    "cfg = OmegaConf.create(dict(\n",
    "    wandb=cfg,\n",
    "    out_dir=(utils.ROOT_DIR/'../../out/rna_vel_pred/rna_vel_pred').resolve(),\n",
    "    run_ids=[\n",
    "        'ar8z2bao', 'li21mqmc', '66171mxq', '2uixz7e2',\n",
    "    ],\n",
    "    split='test',\n",
    "))\n",
    "cfg"
   ]
  },
  {
   "cell_type": "code",
   "execution_count": 4,
   "id": "131682d1-2e28-4734-8e7f-0bee89b355ba",
   "metadata": {},
   "outputs": [
    {
     "data": {
      "text/html": [
       "<div>\n",
       "<style scoped>\n",
       "    .dataframe tbody tr th:only-of-type {\n",
       "        vertical-align: middle;\n",
       "    }\n",
       "\n",
       "    .dataframe tbody tr th {\n",
       "        vertical-align: top;\n",
       "    }\n",
       "\n",
       "    .dataframe thead th {\n",
       "        text-align: right;\n",
       "    }\n",
       "</style>\n",
       "<table border=\"1\" class=\"dataframe\">\n",
       "  <thead>\n",
       "    <tr style=\"text-align: right;\">\n",
       "      <th></th>\n",
       "      <th>run_id</th>\n",
       "      <th>loss</th>\n",
       "      <th>cosine</th>\n",
       "      <th>data_subdir</th>\n",
       "    </tr>\n",
       "  </thead>\n",
       "  <tbody>\n",
       "    <tr>\n",
       "      <th>0</th>\n",
       "      <td>ar8z2bao</td>\n",
       "      <td>1.186632</td>\n",
       "      <td>0.593316</td>\n",
       "      <td>pancreas</td>\n",
       "    </tr>\n",
       "    <tr>\n",
       "      <th>1</th>\n",
       "      <td>li21mqmc</td>\n",
       "      <td>1.729986</td>\n",
       "      <td>0.864993</td>\n",
       "      <td>dentategyrus</td>\n",
       "    </tr>\n",
       "    <tr>\n",
       "      <th>2</th>\n",
       "      <td>66171mxq</td>\n",
       "      <td>1.698371</td>\n",
       "      <td>0.849186</td>\n",
       "      <td>bonemarrow</td>\n",
       "    </tr>\n",
       "    <tr>\n",
       "      <th>3</th>\n",
       "      <td>2uixz7e2</td>\n",
       "      <td>1.540934</td>\n",
       "      <td>0.770467</td>\n",
       "      <td>forebrain</td>\n",
       "    </tr>\n",
       "  </tbody>\n",
       "</table>\n",
       "</div>"
      ],
      "text/plain": [
       "     run_id      loss    cosine   data_subdir\n",
       "0  ar8z2bao  1.186632  0.593316      pancreas\n",
       "1  li21mqmc  1.729986  0.864993  dentategyrus\n",
       "2  66171mxq  1.698371  0.849186    bonemarrow\n",
       "3  2uixz7e2  1.540934  0.770467     forebrain"
      ]
     },
     "execution_count": 4,
     "metadata": {},
     "output_type": "execute_result"
    }
   ],
   "source": [
    "df = plots.loss_table(cfg)\n",
    "df"
   ]
  }
 ],
 "metadata": {
  "kernelspec": {
   "display_name": "Python 3 (ipykernel)",
   "language": "python",
   "name": "python3"
  },
  "language_info": {
   "codemirror_mode": {
    "name": "ipython",
    "version": 3
   },
   "file_extension": ".py",
   "mimetype": "text/x-python",
   "name": "python",
   "nbconvert_exporter": "python",
   "pygments_lexer": "ipython3",
   "version": "3.10.12"
  }
 },
 "nbformat": 4,
 "nbformat_minor": 5
}
